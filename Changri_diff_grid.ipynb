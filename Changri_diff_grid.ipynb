{
 "cells": [
  {
   "cell_type": "code",
   "execution_count": 1,
   "id": "cb29a021-5ad2-4a1a-9410-558d18b71e15",
   "metadata": {},
   "outputs": [],
   "source": [
    "import xarray as xr\n",
    "import pandas as pd\n",
    "import numpy as np\n",
    "import scipy\n",
    "from scipy import stats \n",
    "import cartopy.crs as ccrs\n",
    "import cartopy.feature as cfeature\n",
    "import cartopy.mpl.ticker as cticker\n",
    "from cartopy.util import add_cyclic_point\n",
    "import matplotlib as mpl\n",
    "import matplotlib.pyplot as plt\n",
    "from matplotlib.colors import *\n",
    "import matplotlib.colors as colors\n",
    "import openpyxl\n",
    "from netCDF4 import Dataset\n",
    "import h5netcdf"
   ]
  },
  {
   "cell_type": "code",
   "execution_count": 2,
   "id": "c754edf3-b4c4-42c0-b31a-add532df99d6",
   "metadata": {},
   "outputs": [],
   "source": [
    "sourceData='/bettik/amoryc/MARout/GRa/spin2/work/'\n",
    "variable='TT' ##RF;SF;SHSN3;TT\n",
    "fileNameM='mon-TT-MARv3.14_ER5-2000-2023.nc' ##change to monthly\n",
    "dsM= xr.open_dataset(sourceData+fileNameM)['TT']"
   ]
  },
  {
   "cell_type": "code",
   "execution_count": 3,
   "id": "a281808e-592c-4232-a7e6-d4d20e9ba016",
   "metadata": {},
   "outputs": [],
   "source": [
    "## Model MAR\n",
    "sourceDataGrid='/home/amoryc/'\n",
    "#fileName_grF='NST.2000.01.01.00.GRa_Fedchenko.nc'\n",
    "fileName_grM='NST.2000.01.01.00.GRa_Mera.nc_ICEmask'\n",
    "ds_grM= xr.open_dataset(sourceDataGrid+fileName_grM)"
   ]
  },
  {
   "cell_type": "code",
   "execution_count": 4,
   "id": "f9230700-a5be-4643-a0b0-c7282ad8956b",
   "metadata": {},
   "outputs": [],
   "source": [
    "#Gra Mera 5km\n",
    "sourceData='/bettik/amoryc/MARout/GRa/spin2/work/'\n",
    "variable='TT' ##RF;SF;SHSN3;TT\n",
    "fileNameM='mon-TT-MARv3.14_ER5-2000-2023.nc' ##change to monthly\n",
    "dsM= xr.open_dataset(sourceData+fileNameM)['TT'][:,1,:,:] ## montlhy mean"
   ]
  },
  {
   "cell_type": "code",
   "execution_count": 5,
   "id": "00e95a4e-6d40-4311-accc-bdd404284f17",
   "metadata": {},
   "outputs": [],
   "source": [
    "###\n",
    "#AWS-Mera La: Since November 2013 (AWS inserted on firm rocks – off-glacier)\n",
    "#Location in WGS84, Lat: 27.735°N; Long: 86.900°E; Elevation: 5352.008 m \n",
    "#or UTM Zone 45; Easting: 490137.007 m; Northing: 3067850.613 m on 22/11/2020\n",
    "###\n",
    "lon_Changri=86.77948450\n",
    "lat_Changri=27.98336311\n",
    "elev_Changri=5360\n",
    "##Find the pixel of MAR corresponding to station\n",
    "target_lon = lon_Changri\n",
    "target_lat = lat_Changri\n",
    "lon=ds_grM.LON\n",
    "lat=ds_grM.LAT"
   ]
  },
  {
   "cell_type": "code",
   "execution_count": 6,
   "id": "6940cc87-ec5e-4b15-b7b2-d9f0a25b7f98",
   "metadata": {},
   "outputs": [
    {
     "name": "stdout",
     "output_type": "stream",
     "text": [
      "<xarray.DataArray (y: 116, x: 164)> Size: 76kB\n",
      "array([[5.2705283, 5.2242417, 5.178023 , ..., 3.8274531, 3.8701384,\n",
      "        3.912993 ],\n",
      "       [5.2544045, 5.2079577, 5.161576 , ..., 3.8043795, 3.847324 ,\n",
      "        3.890469 ],\n",
      "       [5.238618 , 5.1919956, 5.1454506, ..., 3.7816935, 3.8249161,\n",
      "        3.8683245],\n",
      "       ...,\n",
      "       [5.857553 , 5.813447 , 5.7694645, ..., 4.5143867, 4.5527673,\n",
      "        4.5913987],\n",
      "       [5.882204 , 5.8382554, 5.7944493, ..., 4.545453 , 4.5836015,\n",
      "        4.6219974],\n",
      "       [5.907094 , 5.86332  , 5.8196645, ..., 4.576767 , 4.6146655,\n",
      "        4.6528387]], shape=(116, 164), dtype=float32)\n",
      "Coordinates:\n",
      "  * x        (x) float32 656B -495.0 -490.0 -485.0 -480.0 ... 310.0 315.0 320.0\n",
      "  * y        (y) float32 464B -195.0 -190.0 -185.0 -180.0 ... 370.0 375.0 380.0\n"
     ]
    }
   ],
   "source": [
    "#Step 2: Find the nearest grid point to target_lon,target_lat\n",
    "# Compute distance to each grid point\n",
    "dist = np.sqrt((lon - target_lon)**2 + (lat - target_lat)**2)\n",
    "print(dist)\n",
    "j, i = np.unravel_index(dist.argmin(), dist.shape)"
   ]
  },
  {
   "cell_type": "code",
   "execution_count": 7,
   "id": "eb64dc1b-b6c8-4755-8bd7-9639470accdd",
   "metadata": {},
   "outputs": [
    {
     "name": "stdout",
     "output_type": "stream",
     "text": [
      "45 97\n"
     ]
    }
   ],
   "source": [
    "print(j,i)"
   ]
  },
  {
   "cell_type": "code",
   "execution_count": 8,
   "id": "b7889538-f20a-48a9-8a24-5d980550083a",
   "metadata": {},
   "outputs": [],
   "source": [
    "#Step 3: Extract data at that location\n",
    "# For a single time step\n",
    "#value = dsM['SH'].isel(y=j, x=i)\n",
    "## If there's a time dimension\n",
    "dsM_sta1=dsM[0:, i, j]\n",
    "dsM_sta2=dsM[0:, i, j+1]\n",
    "dsM_sta3=dsM[0:, i-1, j+1]\n",
    "dsM_sta4=dsM[0:, i-1, j]\n",
    "dsM_sta5=dsM[0:, i-1, j-1]\n",
    "dsM_sta6=dsM[0:, i, j-1]\n",
    "dsM_sta7=dsM[0:, i+1, j-1]\n",
    "dsM_sta8=dsM[0:, i+1, j]\n",
    "dsM_sta9=dsM[0:, i+1, j+1]\n",
    "\n",
    "\n",
    "dsM_sta = [dsM_sta1,dsM_sta2,dsM_sta3,dsM_sta4,dsM_sta5,dsM_sta6,dsM_sta7,dsM_sta8,dsM_sta9]\n",
    "dsM_sta_new1=[ds.rename({'TIME': 'time'}) for ds in dsM_sta]\n",
    "dsM_sta_new=[ds.where(ds.values<= 70) for ds in dsM_sta_new1]\n"
   ]
  },
  {
   "cell_type": "code",
   "execution_count": 9,
   "id": "000e5c74-cc5d-467b-aa92-0d039a055374",
   "metadata": {},
   "outputs": [],
   "source": [
    "#Evaluer la différence de hauteur entre la station et le niveau 1 de la grille MAR considérée\n",
    "SH_sta=elev_Changri\n",
    "MAR1= ds_grM['SH'].isel(y=j, x=i)\n",
    "MAR2= ds_grM['SH'].isel(y=j+1, x=i)\n",
    "MAR3= ds_grM['SH'].isel(y=j+1, x=i-1)\n",
    "MAR4= ds_grM['SH'].isel(y=j, x=i-1)\n",
    "MAR5= ds_grM['SH'].isel(y=j-1, x=i-1)\n",
    "MAR6= ds_grM['SH'].isel(y=j-1, x=i)\n",
    "MAR7= ds_grM['SH'].isel(y=j-1, x=i+1)\n",
    "MAR8= ds_grM['SH'].isel(y=j, x=i+1)\n",
    "MAR9= ds_grM['SH'].isel(y=j+1, x=i+1)\n",
    "\n",
    "\n",
    "MAR=[MAR1,MAR2,MAR3,MAR4,MAR5,MAR6,MAR6,MAR7,MAR8,MAR9]\n",
    "diff=[SH_sta-ds.values for ds in MAR]\n",
    "\n",
    "MARc = [xr.DataArray(ds.values , coords=ds.coords, dims=ds.dims) for ds, d in zip(dsM_sta_new, diff)]\n",
    "#- d * 0.0052"
   ]
  },
  {
   "cell_type": "code",
   "execution_count": null,
   "id": "7c72f23b-7e2e-49dc-bcc2-f38a69fab15c",
   "metadata": {},
   "outputs": [],
   "source": []
  },
  {
   "cell_type": "code",
   "execution_count": null,
   "id": "ee167c6d-54c0-4c3d-8b89-2039712738b9",
   "metadata": {},
   "outputs": [],
   "source": []
  },
  {
   "cell_type": "code",
   "execution_count": 10,
   "id": "b2c76166-1b52-494a-a8bb-cac2030fc7ff",
   "metadata": {},
   "outputs": [
    {
     "data": {
      "image/png": "[encoded data removed]",
      "text/plain": [
       "<Figure size 2000x1000 with 2 Axes>"
      ]
     },
     "metadata": {},
     "output_type": "display_data"
    }
   ],
   "source": [
    "##\n",
    "fig, axs = plt.subplots(subplot_kw={'projection': ccrs.PlateCarree()},figsize=(20,10))\n",
    "cmap='terrain'\n",
    "\n",
    "m1=axs.pcolormesh(ds_grM.SH,cmap=cmap)\n",
    "axs.scatter(i,j,s=250,marker='*',color='red',linewidths=1.,edgecolors='red') #vérifier si coordonées sont dans le bon référenciel.\n",
    "\n",
    "axs.set_title('Changri')\n",
    "fig.colorbar(m1,orientation='vertical')\n",
    "\n",
    "#ax1.set_title('contourf with levels')\n",
    "fig.tight_layout()\n",
    "\n",
    "plt.show()"
   ]
  },
  {
   "cell_type": "code",
   "execution_count": null,
   "id": "68a9adb4-3eb5-414d-98e9-acddab7d263e",
   "metadata": {},
   "outputs": [],
   "source": []
  },
  {
   "cell_type": "code",
   "execution_count": 11,
   "id": "76f025de-5a91-413a-8e7d-d39a104ec1c9",
   "metadata": {},
   "outputs": [],
   "source": [
    "####\n",
    "## Opening station data\n",
    "####"
   ]
  },
  {
   "cell_type": "code",
   "execution_count": 12,
   "id": "ed7f1e29-955e-43c5-8acc-25ed2711cb07",
   "metadata": {},
   "outputs": [],
   "source": [
    "sourceData3='/bettik/PROJECTS/pr-regional-climate/santolam/glacioclim/donnees_meteo/'\n",
    "fileName3='Changri5360final2010_12bonscoeff.xlsx'\n",
    "xl_file3 = pd.ExcelFile(sourceData3+fileName3)"
   ]
  },
  {
   "cell_type": "code",
   "execution_count": 13,
   "id": "876ee2e0-ca7b-4057-b434-c363a30f0983",
   "metadata": {},
   "outputs": [],
   "source": [
    "dfs3 = {sheet_name: xl_file3.parse(sheet_name) \n",
    "          for sheet_name in xl_file3.sheet_names}\n",
    "Data3=dfs3['Changri2010_12']\n",
    "\n",
    "NameVars3=['Time','SWin','SWout','LWin','LWout','Tair','RH','Height/surf','U','Dir','T1-2,5cm','T2-5cm','T3-7,5cm','T4-10cm']\n",
    "UnitVars3=['data/hour','W/m2','W/m2','W/m2','W/m2','(°C)','%','m/s','degres','(°C)','(°C)','(°C)','(°C)']\n",
    "\n",
    "##Define new DataFrame and changing name of columns\n",
    "dfile3 = pd.DataFrame(data=Data3.loc[14:])\n",
    "df3=pd.DataFrame(dfile3.values, columns=NameVars3)\n",
    "\n",
    "### Opening one column + converting into an array\n",
    "Tair_ar3=[float(i) for i in df3.Tair.values]\n"
   ]
  },
  {
   "cell_type": "code",
   "execution_count": null,
   "id": "5120ae10-2f57-41a9-a9d4-5da970ac88cd",
   "metadata": {},
   "outputs": [],
   "source": []
  },
  {
   "cell_type": "code",
   "execution_count": null,
   "id": "0df5c7b9-fffb-409b-9a14-fe4e0cd301c8",
   "metadata": {},
   "outputs": [],
   "source": []
  },
  {
   "cell_type": "code",
   "execution_count": 14,
   "id": "20b751e6-9407-41e0-9c3f-d379f482d479",
   "metadata": {},
   "outputs": [
    {
     "name": "stdout",
     "output_type": "stream",
     "text": [
      "<pandas.io.excel._base.ExcelFile object at 0x7f3e4ef6e350>\n"
     ]
    }
   ],
   "source": [
    "sourceData2='/bettik/PROJECTS/pr-regional-climate/santolam/glacioclim/donnees_meteo/'\n",
    "fileName2='Changri5360final2012_14bonscoeff.xlsx'\n",
    "xl_file2 = pd.ExcelFile(sourceData2+fileName2)\n",
    "print(xl_file2)"
   ]
  },
  {
   "cell_type": "code",
   "execution_count": 15,
   "id": "48efe36e-44e2-4ba3-95a7-8707085ebd54",
   "metadata": {},
   "outputs": [],
   "source": [
    "dfs2 = {sheet_name: xl_file2.parse(sheet_name) \n",
    "          for sheet_name in xl_file2.sheet_names}\n",
    "Data2=dfs2['Changri2012_14']\n",
    "\n",
    "NameVars2=['Time','SWin','SWout','LWin','LWout','Tair','RH','Height/surf','Uhight','Dir','T4','T3','T2','T1','ulow','dir']\n",
    "UnitVars2=['data/hour','W/m2','W/m2','W/m2','W/m2','(°C)','%','m/s','degres','W/m2','W/m2','(°C)','(°C)','(°C)','m/s','degrees']\n",
    "\n",
    "##Define new DataFrame and changing name of columns\n",
    "dfile2 = pd.DataFrame(data=Data2.loc[14:])\n",
    "df2=pd.DataFrame(dfile2.values, columns=NameVars2)\n",
    "\n",
    "### Opening one column + converting into an array\n",
    "Tair_ar2=[float(i) for i in df2.Tair.values]\n"
   ]
  },
  {
   "cell_type": "code",
   "execution_count": null,
   "id": "2a38540e-3c58-4dd8-9e6a-eb34c9156a03",
   "metadata": {},
   "outputs": [],
   "source": []
  },
  {
   "cell_type": "code",
   "execution_count": null,
   "id": "1f142f8b-1a00-4c2d-9d2b-8f00016232b8",
   "metadata": {},
   "outputs": [],
   "source": []
  },
  {
   "cell_type": "code",
   "execution_count": null,
   "id": "40149ecd-8b99-4cd8-9cdf-f789b936cfa0",
   "metadata": {},
   "outputs": [],
   "source": []
  },
  {
   "cell_type": "code",
   "execution_count": 16,
   "id": "7e1d1fa6-c9de-43b7-affb-5672c383af7f",
   "metadata": {},
   "outputs": [],
   "source": [
    "sourceData1='/bettik/PROJECTS/pr-regional-climate/santolam/glacioclim/donnees_meteo/'\n",
    "fileName1='Changri5360final2014_24.xlsx'\n",
    "xl_file1 = pd.ExcelFile(sourceData1+fileName1)\n"
   ]
  },
  {
   "cell_type": "code",
   "execution_count": 17,
   "id": "10623e5f-923c-4eca-8713-1ac7f60601ac",
   "metadata": {},
   "outputs": [],
   "source": [
    "dfs1 = {sheet_name: xl_file1.parse(sheet_name) \n",
    "          for sheet_name in xl_file1.sheet_names}\n",
    "Data1=dfs1['Changri_5360_2014_23']\n",
    "\n",
    "NameVars1=['Time','SWin','SWout','LWin','LWout','Tair','RH','Height/surf','Uhight','Dir','Flux-21cm','T1-1cm','T2-16cm','T3-21cm','ulow','dir']\n",
    "UnitVars1=['data/hour','W/m2','W/m2','W/m2','W/m2','(°C)','%','m/s','degres','W/m2','W/m2','(°C)','(°C)','(°C)','m/s','degrees']\n",
    "\n",
    "##Define new DataFrame and changing name of columns\n",
    "dfile1 = pd.DataFrame(data=Data1.loc[14:])\n",
    "df1=pd.DataFrame(dfile1.values, columns=NameVars1)\n",
    "\n",
    "### Opening one column + converting into an array\n",
    "Tair_ar1=[float(i) for i in df1.Tair.values]\n"
   ]
  },
  {
   "cell_type": "code",
   "execution_count": 18,
   "id": "8273898e-f4b5-4c50-8807-76057c908f76",
   "metadata": {},
   "outputs": [],
   "source": [
    "##In original time data from DataFrame, frequency is not defined so I cannot use the usual fonction (xr,pd)\n",
    "##Need to redefine a time array + build a xarray of variable V=V(time)\n",
    "def NewTime(df, NameVar, values, freq):\n",
    "\ttime = pd.to_datetime(df['Time'].values)\n",
    "\tds = xr.Dataset({NameVar: (\"time\", np.asarray(values))}, coords={\"time\": time})\n",
    "\treturn ds\n",
    "    "
   ]
  },
  {
   "cell_type": "code",
   "execution_count": 19,
   "id": "abb548c9-65f8-473a-b706-588eb02c262c",
   "metadata": {},
   "outputs": [],
   "source": [
    "#Définition Variables\n",
    "\n",
    "T1=NewTime(df1,'Tair',Tair_ar1,'30min')\n",
    "T2=NewTime(df2,'Tair',Tair_ar2,'30min')\n",
    "T3=NewTime(df3,'Tair',Tair_ar3,'30min')\n",
    "\n",
    "\n",
    "T = xr.concat([T3, T2,T1], dim='time')\n"
   ]
  },
  {
   "cell_type": "code",
   "execution_count": 20,
   "id": "c2751c79-beaa-4a1b-98af-f3c52db7c702",
   "metadata": {},
   "outputs": [],
   "source": [
    "daily_meanT=T.resample(time='D').mean()                          #Utilisation de la librairie xarray maintenant possible car les données ont une forme bien définie\n",
    "monthly_meanT=daily_meanT.resample(time='ME').mean()             # chaque variable ici défini est un xarray.Dataset\n",
    "yearly_meanT=monthly_meanT.resample(time='YE').mean()\n",
    "#daily_meanTM"
   ]
  },
  {
   "cell_type": "code",
   "execution_count": 21,
   "id": "0e78690a-fa7b-445e-9ccf-ee5a797165ba",
   "metadata": {},
   "outputs": [],
   "source": [
    "#Définition des Saisons, et création d'une fonction qui définit les saisons en fonction des périodes des moussons:\n",
    "seasons = {\n",
    "\t'MAM': [3, 4, 5],  \t\n",
    "\t'JJAS': [6, 7, 8, 9],  \n",
    "\t'ON': [10, 11],    \t\n",
    "\t'DJF': [12, 1, 2]  \t\n",
    "}\n",
    "def seasonsdata(ds, season_name):  #monthly_meanTM.sel(time=monthly_meanTM['time'].dt.month.isin(seasons['MAM'])). Sélectionne dans le dataset les mois correspondants aux saisons définies au dessus\n",
    "\n",
    "\tx = seasons[season_name]\n",
    "\treturn ds.sel(time=ds['time'].dt.month.isin(x))\n"
   ]
  },
  {
   "cell_type": "code",
   "execution_count": 22,
   "id": "a7db0c61-93b5-44d0-8ce3-467d41713548",
   "metadata": {},
   "outputs": [],
   "source": [
    "# Get the time coordinates CORRIGER DIFF ENTRE MAR ET STATION\n",
    "time1 = monthly_meanT['time']# début 2013-11-15 fin 2024-11-28\n",
    "time2 = dsM_sta_new[1].time # début 2003-01-01T12: fin 2013-12-31T12\n",
    "start=time1[0] \n",
    "end=time2[-1]\n",
    "ts_MAR= [ds.sel(time=slice(start,end)) for ds in dsM_sta_new]\n",
    "\n",
    "TMAR_monthly_cycle= [ds.groupby('time.month').mean() for ds in MARc]\n"
   ]
  },
  {
   "cell_type": "code",
   "execution_count": 23,
   "id": "02f404f2-57b6-4d31-859f-97e9b1b66fe7",
   "metadata": {},
   "outputs": [],
   "source": [
    "ts_sta=monthly_meanT.sel(time=slice(start,end))"
   ]
  },
  {
   "cell_type": "markdown",
   "id": "b3229ad7-cc18-4a32-a416-27a26770c8ff",
   "metadata": {},
   "source": [
    "#Annual cycle:\n",
    "Tsta_cycle=ts_sta.groupby('time.dayofyear').mean()\n",
    "\n",
    "TMAR_daily_cycle=ts_MAR.groupby('time.dayofyear').mean()\n",
    "plt.plot(Tsta_daily_cycle.dayofyear,Tsta_daily_cycle.Tair,     \n",
    "    color='darkblue',linestyle='-',label='Tair')\n",
    "plt.title('Mean annual cycle of daily surface Temperatures')\n",
    "plt.xlabel('Day of year')\n",
    "plt.ylabel('Température (°C)')\n",
    "#Annual cycle:\n",
    "plt.plot(TMAR_daily_cycle.dayofyear,TMAR_daily_cycle.values,    \n",
    "    color='red',linestyle='-',label='Tair MAR')\n",
    "plt.legend()\n",
    "plt.grid(True)\n",
    "\n",
    "\n"
   ]
  },
  {
   "cell_type": "code",
   "execution_count": 24,
   "id": "a797e6b3-c1bc-4f5e-bbb5-e10311004acf",
   "metadata": {},
   "outputs": [],
   "source": [
    "Tsta_monthly_cycle=ts_sta.groupby('time.month').mean()\n",
    "#TMAR_monthly_cycle=ts_MAR.groupby('time.month').mean()"
   ]
  },
  {
   "cell_type": "code",
   "execution_count": 25,
   "id": "4444d525-0b4f-4c1c-95ce-e1c5159b16e9",
   "metadata": {},
   "outputs": [],
   "source": [
    "Tsta_premon = seasonsdata(ts_sta, 'MAM').groupby('time.month').mean()\n",
    "\n",
    "Tsta_mon = seasonsdata(ts_sta, 'JJAS').groupby('time.month').mean()\n",
    "\n",
    "Tsta_postmon =  seasonsdata(ts_sta, 'ON').groupby('time.month').mean()\n",
    "\n",
    "Tsta_hiver  = seasonsdata(ts_sta, 'DJF').groupby('time.month').mean()\n"
   ]
  },
  {
   "cell_type": "code",
   "execution_count": 26,
   "id": "bd1d2314-5f8d-449d-94dd-cd98e05fddb8",
   "metadata": {},
   "outputs": [],
   "source": [
    "#Time series annual data sta\n",
    "Timeseries_Tsta_premon = seasonsdata(ts_sta, 'MAM').resample(time='YE').mean() # T moyen de chaque saison \n",
    "Timeseries_Tsta_mon = seasonsdata(ts_sta, 'JJAS').resample(time='YE').mean()\n",
    "Timeseries_Tsta_postmon =  seasonsdata(ts_sta, 'ON').resample(time='YE').mean()\n",
    "Timeseries_Tsta_hiver  = seasonsdata(ts_sta, 'DJF').resample(time='YE').mean()"
   ]
  },
  {
   "cell_type": "code",
   "execution_count": null,
   "id": "ee8a0691-857c-43db-898c-0cbf9f21aed1",
   "metadata": {},
   "outputs": [],
   "source": []
  },
  {
   "cell_type": "code",
   "execution_count": 43,
   "id": "51c35b47-6cd5-4f66-913f-d385b19f608b",
   "metadata": {},
   "outputs": [
    {
     "name": "stdout",
     "output_type": "stream",
     "text": [
      "[np.float32(243.22998), np.float32(-81.24414), np.float32(31.825195), np.float32(271.99658), np.float32(644.9082), np.float32(457.73926), np.float32(457.73926), np.float32(560.3843), np.float32(81.65625), np.float32(-53.190918)]\n"
     ]
    },
    {
     "data": {
      "image/png": "[encoded data removed]",
      "text/plain": [
       "<Figure size 640x480 with 1 Axes>"
      ]
     },
     "metadata": {},
     "output_type": "display_data"
    }
   ],
   "source": [
    "#Monthly cycle\n",
    "\n",
    "plt.plot(Tsta_monthly_cycle.month,Tsta_monthly_cycle.Tair,\n",
    "    color='lightblue',linestyle='-',label='Tair')\n",
    "\n",
    "plt.plot(TMAR_monthly_cycle[1].month, TMAR_monthly_cycle[7].values,\n",
    "             color='darkblue',linestyle='-',label='TairMAR')  \n",
    "plt.legend()\n",
    "plt.title('Mean annual cycle of daily surface Temperatures')\n",
    "plt.xlabel('Month of year')\n",
    "plt.ylabel('Température (°C)')\n",
    "\n",
    "plt.grid(True)\n",
    "print(diff)"
   ]
  },
  {
   "cell_type": "markdown",
   "id": "768e0b63-35bc-433e-896b-fdf95863feec",
   "metadata": {},
   "source": [
    "#Ajout incertitudes, \n",
    "\n",
    "fig, ((ax1,ax2) , (ax3,ax4)) = plt.subplots(2,2, figsize=(20,16))\n",
    "ax1.plot(Tsta_premon.month, Tsta_premon['Tair'].values, linestyle=':', marker= 'o', label='Tair Station MeraLA')\n",
    "ax1.plot(TMAR_premon.month, TMAR_premon.values, linestyle=':', marker= 'o', label='Tair MAR')\n",
    "ax1.legend(bbox_to_anchor=(0.1, 0.5, 0.5, 0.5)) \n",
    "ax1.set_title('MAM')\n",
    "ax1.set_xlabel('Month')\n",
    "ax1.set_ylabel('Température (°C)')\n",
    "ax1.grid()\n",
    "\n",
    "ax2.plot(Tsta_mon.month, Tsta_mon['Tair'].values, linestyle=':', marker= 'o', label='Tair Station MeraLA')\n",
    "ax2.plot(TMAR_mon.month, TMAR_mon.values, linestyle=':', marker= 'o', label='Tair')\n",
    "ax2.set_title('JJAS')\n",
    "ax2.set_xlabel('Month')\n",
    "ax2.set_ylabel('Température (°C)')\n",
    "ax2.grid()\n",
    "\n",
    "ax3.plot(Tsta_postmon.month, Tsta_postmon['Tair'].values, linestyle=':', marker= 'o', label='Tair Station MeraLA')\n",
    "ax3.plot(TMAR_postmon.month, TMAR_postmon.values, linestyle=':', marker= 'o', label='Tair MAR')\n",
    "ax3.legend(bbox_to_anchor=(0.1, 0.5, 0.5, 0.5)) \n",
    "ax3.set_title('ON')\n",
    "ax3.set_xlabel('Month')\n",
    "ax3.set_ylabel('Température (°C)')\n",
    "ax3.grid()\n",
    "\n",
    "ax4.plot(Tsta_hiver.month, Tsta_hiver['Tair'].values, linestyle=':', marker= 'o', label='Tair Station MeraLA')\n",
    "ax4.plot(TMAR_hiver.month, TMAR_hiver.values, linestyle=':', marker= 'o', label='Tair MAR')\n",
    "ax4.legend(bbox_to_anchor=(1, 0, 0.5, 0.5)) \n",
    "ax4.set_title('DJF')\n",
    "ax4.set_xlabel('Month')\n",
    "ax4.set_ylabel('Température (°C)')\n",
    "ax4.grid()\n",
    "\n",
    "\n",
    "fig.suptitle('Seasonsal Comparaisons between MAR model and MeraLa stations data')"
   ]
  },
  {
   "cell_type": "markdown",
   "id": "49641396-7ea7-4499-b9b8-d53ca488b97a",
   "metadata": {},
   "source": [
    "#Ajout incertitudes, \n",
    "\n",
    "fig, ((ax1,ax2) , (ax3,ax4)) = plt.subplots(2,2, figsize=(20,16))\n",
    "ax1.plot(Timeseries_Tsta_premon.time, Timeseries_Tsta_premon['Tair'].values, linestyle=':', marker= 'o', label='Tair Station Changri')\n",
    "ax1.plot(Timeseries_TMAR_premon.time, Timeseries_TMAR_premon.values, linestyle=':', marker= 'o',color='darkblue', label='Tair MAR')\n",
    "\n",
    "ax1.legend(bbox_to_anchor=(0.1, 0.5, 0.5, 0.5)) \n",
    "ax1.set_title('MAM')\n",
    "ax1.set_xlabel('Month')\n",
    "ax1.set_ylabel('Température (°C)')\n",
    "ax1.grid()\n",
    "\n",
    "ax2.plot(Timeseries_Tsta_mon.time, Timeseries_Tsta_mon['Tair'].values, linestyle=':', marker= 'o', label='Tair Station Changri')\n",
    "ax2.plot(Timeseries_TMAR_mon.time, Timeseries_TMAR_mon.values, linestyle=':',color='darkblue', marker= 'o', label='Tair')\n",
    "\n",
    "ax2.set_title('JJAS')\n",
    "ax2.set_xlabel('Month')\n",
    "ax2.set_ylabel('Température (°C)')\n",
    "ax2.grid()\n",
    "\n",
    "ax3.plot(Timeseries_Tsta_postmon.time, Timeseries_Tsta_postmon['Tair'].values, linestyle=':', marker= 'o', label='Tair Station Changri')\n",
    "ax3.plot(Timeseries_TMAR_postmon.time, Timeseries_TMAR_postmon.values, linestyle=':',color='darkblue', marker= 'o', label='Tair MAR')\n",
    "\n",
    "\n",
    "ax3.legend(bbox_to_anchor=(0.1, 0.5, 0.5, 0.5)) \n",
    "ax3.set_title('ON')\n",
    "ax3.set_xlabel('Month')\n",
    "ax3.set_ylabel('Température (°C)')\n",
    "ax3.grid()\n",
    "\n",
    "ax4.plot(Timeseries_Tsta_hiver.time, Timeseries_Tsta_hiver['Tair'].values, linestyle=':', marker= 'o', label='Tair Station Changri')\n",
    "ax4.plot(Timeseries_TMAR_hiver.time, Timeseries_TMAR_hiver.values, linestyle=':',color='darkblue', marker= 'o', label='Tair MAR')\n",
    "\n",
    "ax4.legend(bbox_to_anchor=(1, 0, 0.5, 0.5)) \n",
    "ax4.set_title('DJF')\n",
    "ax4.set_xlabel('Month')\n",
    "ax4.set_ylabel('Température (°C)')\n",
    "ax4.grid()\n",
    "\n",
    "\n",
    "fig.suptitle('Seasonsal Comparaisons between MAR model and MeraLa stations data')"
   ]
  },
  {
   "cell_type": "code",
   "execution_count": null,
   "id": "efda0121-8329-422c-a3f2-3519594bc42f",
   "metadata": {},
   "outputs": [],
   "source": [
    "#print('différence dT/dt entre données sta et model MAR :','MAM:',linTsta_premon.slope-linTMAR_premon.slope,'JJAS:', linTsta_mon.slope-linTMAR_mon.slope,'ON:', linTsta_postmon.slope-linTMAR_postmon.slope,'DJF:', linTsta_hiver.slope-linTMAR_hiver.slope)"
   ]
  },
  {
   "cell_type": "code",
   "execution_count": null,
   "id": "5661d7f7-a20b-4df3-a474-c795e0948374",
   "metadata": {},
   "outputs": [],
   "source": [
    "xr.corr(Timeseries_TMAR_mon,Timeseries_Tsta_mon.Tair,dim=None, weights=None)"
   ]
  },
  {
   "cell_type": "code",
   "execution_count": null,
   "id": "63de50cb-e3a5-4a15-a380-3ca7f2ef1153",
   "metadata": {},
   "outputs": [],
   "source": [
    "xr.corr(Timeseries_TMAR_premon,Timeseries_Tsta_premon.Tair,dim=None, weights=None)"
   ]
  },
  {
   "cell_type": "code",
   "execution_count": null,
   "id": "2c301c77-507a-449d-b897-44ded621a88e",
   "metadata": {},
   "outputs": [],
   "source": [
    "xr.corr(Timeseries_TMAR_postmon,Timeseries_Tsta_postmon.Tair,dim=None, weights=None)"
   ]
  },
  {
   "cell_type": "code",
   "execution_count": null,
   "id": "8528ea69-0730-4756-a774-204af933e144",
   "metadata": {},
   "outputs": [],
   "source": [
    "xr.corr(Timeseries_TMAR_hiver,Timeseries_Tsta_hiver.Tair,dim=None, weights=None)"
   ]
  },
  {
   "cell_type": "code",
   "execution_count": null,
   "id": "d4882fb6-9b6c-4225-915a-19019fcabe9c",
   "metadata": {},
   "outputs": [],
   "source": [
    "xr.corr(TMAR_monthly_cycle,Tsta_monthly_cycle.Tair,dim=None, weights=None)"
   ]
  },
  {
   "cell_type": "code",
   "execution_count": null,
   "id": "055079ca-abe8-4df2-bace-51f26f280252",
   "metadata": {},
   "outputs": [],
   "source": [
    "print(xr.corr(Timeseries_TMAR_premon,Timeseries_Tsta_premon.Tair,dim=None, weights=None),\n",
    "xr.corr(Timeseries_TMAR_mon,Timeseries_Tsta_mon.Tair,dim=None, weights=None),\n",
    "xr.corr(Timeseries_TMAR_hiver,Timeseries_Tsta_hiver.Tair,dim=None, weights=None),\n",
    "xr.corr(TMAR_monthly_cycle,Tsta_monthly_cycle.Tair,dim=None, weights=None))"
   ]
  },
  {
   "cell_type": "code",
   "execution_count": null,
   "id": "17a14f2b-5a0b-403f-950f-ecd49cc3c527",
   "metadata": {},
   "outputs": [],
   "source": []
  },
  {
   "cell_type": "code",
   "execution_count": null,
   "id": "e0c3cd8e-18e5-4817-92f1-3afdc04164e0",
   "metadata": {},
   "outputs": [],
   "source": []
  },
  {
   "cell_type": "code",
   "execution_count": null,
   "id": "f97b9358-a19c-44f2-9a49-45e8b151e29f",
   "metadata": {},
   "outputs": [],
   "source": []
  }
 ],
 "metadata": {
  "kernelspec": {
   "display_name": "Python 3 (ipykernel)",
   "language": "python",
   "name": "python3"
  },
  "language_info": {
   "codemirror_mode": {
    "name": "ipython",
    "version": 3
   },
   "file_extension": ".py",
   "mimetype": "text/x-python",
   "name": "python",
   "nbconvert_exporter": "python",
   "pygments_lexer": "ipython3",
   "version": "3.13.2"
  }
 },
 "nbformat": 4,
 "nbformat_minor": 5
}
